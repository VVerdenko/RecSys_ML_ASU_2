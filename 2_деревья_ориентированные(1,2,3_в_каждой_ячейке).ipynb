{
  "nbformat": 4,
  "nbformat_minor": 0,
  "metadata": {
    "colab": {
      "provenance": [],
      "authorship_tag": "ABX9TyOjISr1hh5ZL5BPF5QUPgXs",
      "include_colab_link": true
    },
    "kernelspec": {
      "name": "python3",
      "display_name": "Python 3"
    },
    "language_info": {
      "name": "python"
    }
  },
  "cells": [
    {
      "cell_type": "markdown",
      "metadata": {
        "id": "view-in-github",
        "colab_type": "text"
      },
      "source": [
        "<a href=\"https://colab.research.google.com/github/VVerdenko/RecSys_ML_ASU_2/blob/main/2_%D0%B4%D0%B5%D1%80%D0%B5%D0%B2%D1%8C%D1%8F_%D0%BE%D1%80%D0%B8%D0%B5%D0%BD%D1%82%D0%B8%D1%80%D0%BE%D0%B2%D0%B0%D0%BD%D0%BD%D1%8B%D0%B5(1%2C2%2C3_%D0%B2_%D0%BA%D0%B0%D0%B6%D0%B4%D0%BE%D0%B9_%D1%8F%D1%87%D0%B5%D0%B9%D0%BA%D0%B5).ipynb\" target=\"_parent\"><img src=\"https://colab.research.google.com/assets/colab-badge.svg\" alt=\"Open In Colab\"/></a>"
      ]
    },
    {
      "cell_type": "code",
      "execution_count": null,
      "metadata": {
        "id": "I3u7cZUMdGVA"
      },
      "outputs": [],
      "source": [
        "N_1 = [0] * 100\n",
        "M = [0] * 100\n",
        "N = [0] * 100\n",
        "\n",
        "M_S = [0] * 100\n",
        "N_S = [0] * 100\n",
        "\n",
        "q = [0] * 100   # просто M(x) + 2*N(x) для удобства\n",
        "\n",
        "s = [0] * 100\n",
        "\n",
        "t = [0] * 100\n",
        "\n",
        "sp = []      # sp[n][k] хранит список разбиений числа n на k слогаемых\n",
        "f = []      # массив факториалов"
      ]
    },
    {
      "cell_type": "code",
      "source": [
        "def find_f(max_n):\n",
        "  f.append(1)\n",
        "  for i in range(1, max_n+1):\n",
        "    f.append(f[i-1] * i)\n",
        "\n",
        "f = []\n",
        "find_f(20)"
      ],
      "metadata": {
        "id": "2SFE_xl4dq7G"
      },
      "execution_count": null,
      "outputs": []
    },
    {
      "cell_type": "code",
      "source": [
        "def find_sp(max_n):\n",
        "  sp.append([[[]]])\n",
        "  for i in range(1, max_n + 1):\n",
        "    sp.append([[[]]])\n",
        "    for j in range(1, i + 1):\n",
        "      sp[i].append([[]])\n",
        "    sp[i][1] = [[i]]\n",
        "\n",
        "\n",
        "  for n in range(2, max_n + 1):   # РАЗБИВАЕТ Н\n",
        "    for i in range(1, n):            # число которое приписываем\n",
        "      for k in range(1, n - i + 1):          # количество чисел в последовательности к которой приписываем\n",
        "\n",
        "        x = sp[n - i][k][:]                            # нужна копия объекта, а не ссылка на него\n",
        "        for j in range(len(x)):            # к каждой последовательности надо приписать i\n",
        "          x[j] = x[j] + [i]\n",
        "        if sp[n][k + 1] == [[]]:\n",
        "          sp[n][k + 1] = x\n",
        "        else:\n",
        "          sp[n][k + 1] += x\n",
        "\n",
        "sp = []\n",
        "find_sp(20)"
      ],
      "metadata": {
        "id": "7p1qFDo-dzsN"
      },
      "execution_count": null,
      "outputs": []
    },
    {
      "cell_type": "code",
      "source": [
        "def find_N_1(n):\n",
        "  sum = 0\n",
        "  n -= 1\n",
        "  for i in range(1, n):\n",
        "    sum += q[i] * q[n - i]\n",
        "  sum += 2 * q[n]\n",
        "\n",
        "  N_1[n + 1] = 3 * sum"
      ],
      "metadata": {
        "id": "NrNrxqfLfvvX"
      },
      "execution_count": null,
      "outputs": []
    },
    {
      "cell_type": "code",
      "source": [
        "def find_M(n):\n",
        "  sum = 0\n",
        "  # Сперва посчитаем ряд в который возведем экспоненту\n",
        "  for k in range(1, n + 1):        # Индикатор суммирования\n",
        "    if n % (2 * k) == 0:\n",
        "      x = n // (2 * k)\n",
        "      sum += N_1[x] / k\n",
        "  M_S[n] = sum\n",
        "\n",
        "  sum = 0\n",
        "  for k in range(1, n + 1):      # номер слогаемого в ряде Тейлора\n",
        "    y = 0\n",
        "    for u in sp[n][k]:          # какие степени взять от каждой скобки, чтобы за к скобок получить н\n",
        "      x = 1\n",
        "      for i in u:\n",
        "        x *= M_S[i]\n",
        "      y += x\n",
        "    sum += y / f[k]\n",
        "\n",
        "  M[n] = sum"
      ],
      "metadata": {
        "id": "HnQKhF7S2zSO"
      },
      "execution_count": null,
      "outputs": []
    },
    {
      "cell_type": "code",
      "source": [
        "def find_N(n):\n",
        "  sum = 0\n",
        "  # Сперва посчитаем ряд в который возведем экспоненту\n",
        "  for k in range(1, n + 1):        # Индикатор суммирования\n",
        "    if n % k == 0:\n",
        "      x = n // k\n",
        "      sum += 2 * N_1[x] / k\n",
        "  N_S[n] = sum\n",
        "\n",
        "  sum = 0\n",
        "  for k in range(1, n + 1):      # номер слогаемого в ряде Тейлора\n",
        "    y = 0\n",
        "    for u in sp[n][k]:          # какие степени взять от каждой скобки, чтобы за к скобок получить н\n",
        "      x = 1\n",
        "      for i in u:\n",
        "        x *= N_S[i]\n",
        "      y += x\n",
        "    sum += y / f[k]\n",
        "\n",
        "  N[n] = (sum - M[n]) / 2       # ВАЖНО! посчитать M[n] до того как начать считать N[n]"
      ],
      "metadata": {
        "id": "_Z1_B28r21iF"
      },
      "execution_count": null,
      "outputs": []
    },
    {
      "cell_type": "code",
      "source": [
        "def find_s(n):\n",
        "  n -= 1\n",
        "  sum = 0\n",
        "  if n >= 3:\n",
        "    for i in sp[n][3]:\n",
        "      x = 1\n",
        "      for j in i:\n",
        "        x *= q[j]\n",
        "      sum += x\n",
        "  for i in range(1, n):       # sp[n][k] не учитывает что слогаемое может быть 0, т.к. ряд в который возводим экспоненту имеет 0 при нулевой степени\n",
        "    sum += 3 * q[i] * q[n - i]      # домножаем на 3 т.к. три способа выбрать скобку со степенью 0\n",
        "  sum += 3 * q[n]\n",
        "\n",
        "  s[n + 1] = sum"
      ],
      "metadata": {
        "id": "1zNr5dACrYf9"
      },
      "execution_count": null,
      "outputs": []
    },
    {
      "cell_type": "code",
      "source": [
        "u = [0] * 100"
      ],
      "metadata": {
        "id": "D5-QlZaP2_Vk"
      },
      "execution_count": null,
      "outputs": []
    },
    {
      "cell_type": "code",
      "source": [
        "def main(max_n):\n",
        "\n",
        "  M[1] = 0\n",
        "  N[1] = 3\n",
        "  N_1[1] = 3\n",
        "\n",
        "  s[1] = 1\n",
        "\n",
        "  q[1] = 6\n",
        "\n",
        "  M_S[1] = 0\n",
        "  N_S[1] = 6\n",
        "\n",
        "  for i in range(2, max_n + 1):\n",
        "    find_N_1(i)\n",
        "    find_M(i)\n",
        "    find_N(i)\n",
        "\n",
        "    N_1[i] = round(N_1[i])\n",
        "    M[i] = round(M[i])\n",
        "    N[i] = round(N[i])\n",
        "\n",
        "    q[i] = M[i] + 2 * N[i]\n",
        "    u[i] = M[i] + N[i]\n",
        "\n",
        "  for i in range(2, max_n + 1):\n",
        "    find_s(i)\n",
        "    s[i] = round(s[i])\n",
        "\n",
        "  for i in range(1, max_n + 1):\n",
        "    t[i] = N[i] + M[i] - 2 * s[i]\n",
        "\n",
        "main(10)\n",
        "print(\"N_1:\", N_1)\n",
        "print(\"M:  \", M)\n",
        "print(\"N:  \", N)\n",
        "print(\"s:  \", s)"
      ],
      "metadata": {
        "colab": {
          "base_uri": "https://localhost:8080/"
        },
        "id": "5f4IsLjD24E-",
        "outputId": "62e88f83-5c1b-4ae0-a25f-0fe1cd504d59"
      },
      "execution_count": null,
      "outputs": [
        {
          "output_type": "stream",
          "name": "stdout",
          "text": [
            "N_1: [0, 3, 36, 666, 14268, 336231, 8409780, 219307188, 5896294848, 162274884750, 4549187816988, 0, 0, 0, 0, 0, 0, 0, 0, 0, 0, 0, 0, 0, 0, 0, 0, 0, 0, 0, 0, 0, 0, 0, 0, 0, 0, 0, 0, 0, 0, 0, 0, 0, 0, 0, 0, 0, 0, 0, 0, 0, 0, 0, 0, 0, 0, 0, 0, 0, 0, 0, 0, 0, 0, 0, 0, 0, 0, 0, 0, 0, 0, 0, 0, 0, 0, 0, 0, 0, 0, 0, 0, 0, 0, 0, 0, 0, 0, 0, 0, 0, 0, 0, 0, 0, 0, 0, 0, 0]\n",
            "M:   [0, 0, 3, 0, 42, 0, 784, 0, 17163, 0, 409386, 0, 0, 0, 0, 0, 0, 0, 0, 0, 0, 0, 0, 0, 0, 0, 0, 0, 0, 0, 0, 0, 0, 0, 0, 0, 0, 0, 0, 0, 0, 0, 0, 0, 0, 0, 0, 0, 0, 0, 0, 0, 0, 0, 0, 0, 0, 0, 0, 0, 0, 0, 0, 0, 0, 0, 0, 0, 0, 0, 0, 0, 0, 0, 0, 0, 0, 0, 0, 0, 0, 0, 0, 0, 0, 0, 0, 0, 0, 0, 0, 0, 0, 0, 0, 0, 0, 0, 0, 0]\n",
            "N:   [0, 3, 45, 910, 20376, 493803, 12587368, 332785125, 9040766982, 250851391961, 7078609773846, 0, 0, 0, 0, 0, 0, 0, 0, 0, 0, 0, 0, 0, 0, 0, 0, 0, 0, 0, 0, 0, 0, 0, 0, 0, 0, 0, 0, 0, 0, 0, 0, 0, 0, 0, 0, 0, 0, 0, 0, 0, 0, 0, 0, 0, 0, 0, 0, 0, 0, 0, 0, 0, 0, 0, 0, 0, 0, 0, 0, 0, 0, 0, 0, 0, 0, 0, 0, 0, 0, 0, 0, 0, 0, 0, 0, 0, 0, 0, 0, 0, 0, 0, 0, 0, 0, 0, 0, 0]\n",
            "s:   [0, 1, 18, 387, 9024, 223893, 5799204, 155084097, 4249670598, 118711156815, 3367994081672, 0, 0, 0, 0, 0, 0, 0, 0, 0, 0, 0, 0, 0, 0, 0, 0, 0, 0, 0, 0, 0, 0, 0, 0, 0, 0, 0, 0, 0, 0, 0, 0, 0, 0, 0, 0, 0, 0, 0, 0, 0, 0, 0, 0, 0, 0, 0, 0, 0, 0, 0, 0, 0, 0, 0, 0, 0, 0, 0, 0, 0, 0, 0, 0, 0, 0, 0, 0, 0, 0, 0, 0, 0, 0, 0, 0, 0, 0, 0, 0, 0, 0, 0, 0, 0, 0, 0, 0, 0]\n"
          ]
        }
      ]
    },
    {
      "cell_type": "code",
      "source": [
        "print(u)"
      ],
      "metadata": {
        "colab": {
          "base_uri": "https://localhost:8080/"
        },
        "id": "LHgl6zuT2v_7",
        "outputId": "f5346b61-7c8c-4e36-a99a-0e7e68cf9a39"
      },
      "execution_count": null,
      "outputs": [
        {
          "output_type": "stream",
          "name": "stdout",
          "text": [
            "[0, 0, 48, 910, 20418, 493803, 12588152, 332785125, 9040784145, 250851391961, 7078610183232, 0, 0, 0, 0, 0, 0, 0, 0, 0, 0, 0, 0, 0, 0, 0, 0, 0, 0, 0, 0, 0, 0, 0, 0, 0, 0, 0, 0, 0, 0, 0, 0, 0, 0, 0, 0, 0, 0, 0, 0, 0, 0, 0, 0, 0, 0, 0, 0, 0, 0, 0, 0, 0, 0, 0, 0, 0, 0, 0, 0, 0, 0, 0, 0, 0, 0, 0, 0, 0, 0, 0, 0, 0, 0, 0, 0, 0, 0, 0, 0, 0, 0, 0, 0, 0, 0, 0, 0, 0]\n"
          ]
        }
      ]
    },
    {
      "cell_type": "code",
      "source": [
        "print(t)"
      ],
      "metadata": {
        "colab": {
          "base_uri": "https://localhost:8080/"
        },
        "id": "-uzZE3uMv9Bz",
        "outputId": "73b14a8e-5909-4487-9d9e-be83ba3d878a"
      },
      "execution_count": null,
      "outputs": [
        {
          "output_type": "stream",
          "name": "stdout",
          "text": [
            "[0, 1, 12, 136, 2370, 46017, 989744, 22616931, 541442949, 13429078331, 342622019888, 8945186927967, 238059388630625, 6438899423028698, 176586310227859897, 4901331257617319942, 137476283615315894156, 3891881310400463389682, 0, 0, 0, 0, 0, 0, 0, 0, 0, 0, 0, 0, 0, 0, 0, 0, 0, 0, 0, 0, 0, 0, 0, 0, 0, 0, 0, 0, 0, 0, 0, 0, 0, 0, 0, 0, 0, 0, 0, 0, 0, 0, 0, 0, 0, 0, 0, 0, 0, 0, 0, 0, 0, 0, 0, 0, 0, 0, 0, 0, 0, 0, 0, 0, 0, 0, 0, 0, 0, 0, 0, 0, 0, 0, 0, 0, 0, 0, 0, 0, 0, 0]\n"
          ]
        }
      ]
    }
  ]
}